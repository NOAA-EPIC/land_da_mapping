{
 "cells": [
  {
   "cell_type": "markdown",
   "id": "fe4a6cb9-7b68-4760-9046-e2d0d3d3bcb3",
   "metadata": {},
   "source": [
    "# Demo: Consolidating Data Maps for Land DA (Data Assimilation)\n",
    "The mapping tool is based on the current data structure featured within the Land DA datasets required for testing. Due to the fact the Land DA application's forecasting data requirements can vary based on a unique case requested by a user, the mapping tool will map out the data files as they pertain to the current Land DA application's case required for regression testing. The Land DA application's case required for regression testing is specified by the code manager (CM) team. At this time, there are three datasets sourced for testing the Land DA application:\n",
    "\n",
    "1) Baseline data used within the UFS-WM RT framework (__Source:__ https://noaa-ufs-regtests-pds.s3.amazonaws.com/index.html)\n",
    "2) Input data used within the UFS-WM RT framework (__Source:__ https://noaa-ufs-regtests-pds.s3.amazonaws.com/index.html)\n",
    "3) Data extracted from the Land DA TAR-based object (e.g. landda_inputs.tar.gz_v1.1, land_da_new.tar.gz_v1.2, Landdav1.2.0_input_data.tar.gz) issued by the current CM responsible for the Land DA application (__Source:__ https://noaa-ufs-land-da-pds.s3.amazonaws.com/index.html)\n",
    "\n",
    "Per _retrieve_data.py_, the current Land DA application's test case will require subsets of the following timestamped datasets:\n",
    "\n",
    "- _develop-20231108_\n",
    "- _input-data-20221101_\n",
    "- _Landdav1.2.0_input_data.tar.gz_\n",
    "\n",
    "## Requirements:\n",
    "\n",
    "__To generate data maps of Land DA's sourced datasets, execute the following within the Terminal:__\n",
    "\n",
    "- _python map_rt_data.py -b land-da -k_input_data input-data-20221101 -k_bl_data develop-20231122_\n",
    "\n",
    "- _map_land_da_v1p2_data.py -b land-da -k Landdav1.2.0_input_data.tar.gz_\n",
    "\n",
    "__To consolidate the data maps generated above, execute the following within the Terminal:__\n",
    "\n",
    "- _python consolidate_maps.py -b land-da -bl_ts 20231122 -input_ts 20221101 -tar_fn Landdav1.2.0_input_data.tar.gz_land-da_data_map.csv -ver 1.2.0_\n",
    "\n",
    "(OR)\n",
    "\n",
    "Run the commands below within this demo notebook.\n"
   ]
  },
  {
   "cell_type": "markdown",
   "id": "a5f25dfd-239b-4c41-9fc8-749d5c305f93",
   "metadata": {},
   "source": [
    "## Libraries/Modules"
   ]
  },
  {
   "cell_type": "code",
   "execution_count": 65,
   "id": "71187e43-c5b0-456b-b24d-543deca2384e",
   "metadata": {},
   "outputs": [],
   "source": [
    "import pandas as pd\n",
    "from pandas import ExcelWriter"
   ]
  },
  {
   "cell_type": "markdown",
   "id": "b983c433-ab1e-4ce5-8376-440488cfa4c4",
   "metadata": {},
   "source": [
    "## Read Data Maps of Datasets Sourced by Specified Version of Land DA application's Test Case"
   ]
  },
  {
   "cell_type": "code",
   "execution_count": null,
   "id": "ac1e8000-7df4-4577-b98e-e8952ad46c15",
   "metadata": {},
   "outputs": [],
   "source": [
    "# Read files featuring the data maps of UFS-WM RT baseline datasets required for Land DA's v1.2.0\n",
    "BL_DATE = '20231122'\n",
    "ufs_bl_df = pd.read_csv(f'../results/rt_baseline_{BL_DATE}_data_map.csv')\n"
   ]
  },
  {
   "cell_type": "code",
   "execution_count": null,
   "id": "c15f448e-591b-4e48-967b-d0fd67c99cbd",
   "metadata": {},
   "outputs": [],
   "source": [
    "# Read files featuring the data maps of UFS-WM RT input datasets required for Land DA's v1.2.0\n",
    "INPUTDATA_DATE = '20221101'\n",
    "ufs_input_df = pd.read_csv(f'../results/rt_input_{INPUTDATA_DATE}_data_map.csv')\n"
   ]
  },
  {
   "cell_type": "code",
   "execution_count": null,
   "id": "303d660e-b87f-493f-b91a-49191fc8bdff",
   "metadata": {},
   "outputs": [],
   "source": [
    "# Read files featuring the data maps of the Land DA's TAR-based dataset required for Land DA's v1.2.0\n",
    "\n",
    "# File to reference for the updated Land DA's v1.2.0 \n",
    "ver = '1.2.0'\n",
    "fn = f'Landdav{ver}_input_data.tar.gz_land-da_data_map.csv'\n",
    "\n",
    "# File to reference for the Land DA's v1.2.0\n",
    "# ver = '1.2.0'\n",
    "#fn = f'land_da_new.tar.gz_v{ver}_land-da_data_map.csv'\n",
    "\n",
    "# File to reference for the Land DA's v1.1.0\n",
    "# ver = '1.1.0\n",
    "#fn = f'landda_inputs.tar.gz_v{ver}_land-da_data_map.csv'\n",
    "\n",
    "# Read referenced files featuring data maps\n",
    "land_da_input_df = pd.read_csv(f'../results/{fn}')\n"
   ]
  },
  {
   "cell_type": "markdown",
   "id": "02e4a903-6161-443a-a580-06f83455aad8",
   "metadata": {},
   "source": [
    "## Generate Data Map of Input Datasets Required for Current Land DA Application's Test Case\n",
    "\n",
    "Per Land DA's _retrieve_data.py_, the current Land DA application's test case will require the following input datasets extracted from the UFS-WM RT's S3 bucket: \n",
    "\n",
    "- __DATM data__\n",
    "    - {project_source_dir}/../inputs/NEMSfv3gfs/DATM_GSWP3_input_data/*\n",
    "      \n",
    "    - s3://noaa-ufs-regtests-pds/input-data-${INPUTDATA_DATE}/DATM_GSWP3_input_dat*\n",
    "\n",
    "- __NOAHMP Initial Condition data__\n",
    "    - {project_source_dir}/../inputs/NEMSfv3gfs/NOAHMP_IC/*\n",
    "      \n",
    "    - s3://noaa-ufs-regtests-pds/input-data-${INPUTDATA_DATE}/NOAHMP_IC\n",
    " \n",
    "- __Non-Fixed FV3 data__\n",
    "    - {project_source_dir}/../inputs/NEMSfv3gfs/FV3_input_data/INPUT\n",
    "  \n",
    "    - s3://noaa-ufs-regtests-pds/input-data-${INPUTDATA_DATE}/FV3_input_data/INPUT/C96_grid.tile{1-6}.nc\n",
    "      \n",
    "    - s3://noaa-ufs-regtests-pds/input-data-${INPUTDATA_DATE}/FV3_input_data/INPUT/grid_spec.\n",
    " \n",
    "- __Fixed FV3 data__\n",
    "    - {project_source_dir}/../inputs/NEMSfv3gfs/FV3_fix_tiled/C96/*\n",
    "      \n",
    "    - s3://noaa-ufs-regtests-pds/input-data-${INPUTDATA_DATE}/FV3_fix_tiled/C96/*"
   ]
  },
  {
   "cell_type": "code",
   "execution_count": null,
   "id": "bb7bb927-df36-409f-a252-9eabb791ae6c",
   "metadata": {},
   "outputs": [],
   "source": [
    "# Filter to the \"DATM\" & \"NOAHMP Initial Condition\" data required from the UFS-WM RT S3\n",
    "ic_input_df = ufs_input_df[(ufs_input_df['Dataset']==f'input-data-{INPUTDATA_DATE}') & (ufs_input_df['UFS Component'].isin(['DATM_GSWP3_input_data', 'NOAHMP_IC']))]\n",
    "\n",
    "# Filter to the \"Non-Fixed FV3\" data required from the UFS-WM RT S3\n",
    "ufs_input_filtered_df2 = ufs_input_df[(ufs_input_df['Dataset']==f'input-data-{INPUTDATA_DATE}') & (ufs_input_df['UFS Component'].isin(['FV3_input_data'])) & (ufs_input_df['Data File'].isin(['grid_spec.nc'])) & (ufs_input_df['Sub-Category'].isin(['INPUT']))]\n",
    "ufs_input_filtered_df3 = ufs_input_df[(ufs_input_df['Dataset']==f'input-data-{INPUTDATA_DATE}') & (ufs_input_df['UFS Component'].isin(['FV3_input_data'])) & (ufs_input_df['Data File'].str.startswith('C96_grid.tile')) & (ufs_input_df['Sub-Category'].isin(['INPUT']))]\n",
    "nonfixed_input_df = pd.concat([ufs_input_filtered_df2, ufs_input_filtered_df3])\n",
    "\n",
    "# Filter to the \"Fixed FV3\" data required from the UFS-WM RT S3\n",
    "fixed_input_df = ufs_input_df[(ufs_input_df['Dataset']==f'input-data-{INPUTDATA_DATE}') & (ufs_input_df['UFS Component'].isin(['FV3_fix_tiled'])) & (ufs_input_df['Resolution (C)']==96)]\n",
    "fixed_input_df.head(10)"
   ]
  },
  {
   "cell_type": "markdown",
   "id": "57aed2dd-1fad-4fe0-8c77-763e17f63103",
   "metadata": {},
   "source": [
    "## Generate Data Map of Baseline Datasets Required for Current Land DA application's Test Case\n",
    "\n",
    "Currently, the baseline datasets required for the Land DA application's test case are:\n",
    "\n",
    "- __DATM CDEPS LAND GSWP3__\n",
    "      \n",
    "    - {project_source_dir}/../inputs/NEMSfv3gfs/develop-{BL_DATE}/intel/datm_cdeps_lnd_gswp3/*\n",
    "      \n",
    "    - s3://noaa-ufs-regtests-pds/develop-${BL_DATE}/datm_cdeps_lnd_gswp3_intel/*\n"
   ]
  },
  {
   "cell_type": "code",
   "execution_count": null,
   "id": "1fd204d9-1c03-442d-82bc-5f46bb4650b4",
   "metadata": {},
   "outputs": [],
   "source": [
    "# Filter to the \"DATM CDEPS LAND GSWP3\" data required from the UFS-WM RT S3\n",
    "bl_filtered_df = ufs_bl_df[(ufs_bl_df['Dataset']==f'develop-{BL_DATE}') & (ufs_bl_df['Compiler'].isin(['intel'])) & (ufs_bl_df['Test Name'].isin(['datm_cdeps_lnd_gswp3']))]\n",
    "bl_filtered_df"
   ]
  },
  {
   "cell_type": "markdown",
   "id": "ee84bbc6-bb21-48e8-88bd-5102d314578e",
   "metadata": {},
   "source": [
    "## Generate Data Map of TAR Input Land DA Datasets Required for Current Land DA application's Test Case\n",
    "\n",
    "Per Land DA's _retrieve_data.py_, the current Land DA application's test case will require the following subset to be extracted from the Land DA TAR-based object, \n",
    "_Landdav1.2.0_input_data.tr.gz_ :\n",
    "  \n",
    "- For Land DA Application v1.2.0, the Land DA TAR-based object can be found within the Land DA's S3 bucket: __https://noaa-ufs-land-da-pds.s3.amazonaws.com/Landdav1.2.0_input_data.tr.gz__\n",
    "        "
   ]
  },
  {
   "cell_type": "code",
   "execution_count": null,
   "id": "2004e803-7329-4842-b2ca-73d56eb7dcc7",
   "metadata": {},
   "outputs": [],
   "source": [
    "# Land DA TAR-based object\n",
    "land_da_input_df"
   ]
  },
  {
   "cell_type": "markdown",
   "id": "bc563edd-655c-44e6-8486-5a7f5c53e716",
   "metadata": {},
   "source": [
    "## Consolidate All Generated Data Maps Required for Current Land DA application's Test Case\n",
    "        "
   ]
  },
  {
   "cell_type": "code",
   "execution_count": null,
   "id": "258bdf1e-3f10-4868-827c-30c0b5ecf795",
   "metadata": {},
   "outputs": [],
   "source": [
    "# Consolidate all generated data maps required for the specified version of the Land DA application's test case.\n",
    "list_dfs = [ic_input_df,\n",
    "            nonfixed_input_df, \n",
    "            fixed_input_df, \n",
    "            bl_filtered_df, \n",
    "            land_da_input_df]\n",
    "names = [\"DATM_NOAHMP_IC\", \n",
    "         \"NonFixed_FV3\", \n",
    "         \"Fixed_FV3\", \n",
    "         \"Baseline\", \n",
    "         \"LANDDA_TAR\"]\n",
    "with ExcelWriter(f'../results/land_da_test_case_{ver}_data_maps.xlsx') as writer:\n",
    "    for i, df in enumerate(list_dfs):\n",
    "        df.to_excel(writer,sheet_name = names[i], index=False)\n",
    "        "
   ]
  },
  {
   "cell_type": "code",
   "execution_count": null,
   "id": "3bfac392-5c0c-48c2-98b6-808ca47cf409",
   "metadata": {},
   "outputs": [],
   "source": []
  }
 ],
 "metadata": {
  "kernelspec": {
   "display_name": "land_da_mapping",
   "language": "python",
   "name": "land_da_mapping"
  },
  "language_info": {
   "codemirror_mode": {
    "name": "ipython",
    "version": 3
   },
   "file_extension": ".py",
   "mimetype": "text/x-python",
   "name": "python",
   "nbconvert_exporter": "python",
   "pygments_lexer": "ipython3",
   "version": "3.9.0"
  }
 },
 "nbformat": 4,
 "nbformat_minor": 5
}
